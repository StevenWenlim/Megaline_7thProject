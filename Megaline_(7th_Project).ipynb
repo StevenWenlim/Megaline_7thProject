{
  "cells": [
    {
      "cell_type": "markdown",
      "metadata": {
        "id": "2cMpbavD6Lcd"
      },
      "source": [
        "# Model Analisis Perilaku Konsumen Megaline"
      ]
    },
    {
      "cell_type": "markdown",
      "metadata": {
        "id": "FiEMF7Mq6Lce"
      },
      "source": [
        "# Konten <a id='contents'></a>\n",
        "\n",
        "* [1 Gambaran Besar](#big_picture)\n",
        "    * [1.1 Pendahuluan](#intro)\n",
        "    * [1.2 Deskripsi Data](#data_description)\n",
        "    * [1.3 Tujuan dan Langkah-Langkah Pengerjaan Projek](#goals_and_step)\n",
        "\n",
        "* [2 Prapemrosesan Data](#data_preprocessing)\n",
        "    * [2.1 Memuat Data](#load_data)\n",
        "    * [2.2 Eksplorasi Data Awal](#initial_data_exploration)\n",
        "    * [2.3 Kesimpulan Awal](#initial_summary)\n",
        "    \n",
        "* [3 Memisahkan Data menjadi 3 Set](#split_data)\n",
        "    \n",
        "* [4 Melatih Model](#model_train)\n",
        "\n",
        "* [5 Memeriksa Kualitas Data Set](#check_model_accuracy)\n",
        "\n",
        "* [6 Sanity Check](#sanity_check)\n",
        "\n",
        "* [7 Kesimpulan](#summary)"
      ]
    },
    {
      "cell_type": "markdown",
      "metadata": {
        "id": "dhKR4J7n6Lce"
      },
      "source": [
        "## Gambaran Besar <a id='big_picture'></a>"
      ]
    },
    {
      "cell_type": "markdown",
      "metadata": {
        "id": "xaEGNwfZ6Lce"
      },
      "source": [
        "### Pendahuluan <a id='intro'></a>"
      ]
    },
    {
      "cell_type": "markdown",
      "metadata": {
        "id": "kAeHf3sg6Lcf"
      },
      "source": [
        "Operator seluler Megaline merasa tidak puas karena banyak pelanggan mereka yang masih menggunakan paket lama. Perusahaan tersebut ingin mengembangkan sebuah model yang dapat menganalisis perilaku konsumen dan merekomendasikan salah satu dari kedua paket terbaru Megaline: Smart atau Ultra.\n",
        "\n",
        "Sebagai seorang Data Scientiest saya diminta untuk mengembangkan sebuah model yang mampu memilih paket dengan tepat. Pada proyek ini, ambang batas untuk tingkat accuracy-nya adalah 0,75. "
      ]
    },
    {
      "cell_type": "markdown",
      "metadata": {
        "id": "I3YYlMU76Lcf"
      },
      "source": [
        "### Deskripsi Data <a id='data_description'></a>"
      ]
    },
    {
      "cell_type": "markdown",
      "metadata": {
        "id": "ABDDl9ei6Lcf"
      },
      "source": [
        "- сalls: jumlah panggilan\n",
        "- minutes: total durasi panggilan dalam satuan menit\n",
        "- messages: jumlah pesan teks\n",
        "- mb_used: traffic penggunaan internet dalam satuan MB\n",
        "- is_ultra: paket untuk bulan yang sedang berjalan (Ultra - 1, Smart - 0)"
      ]
    },
    {
      "cell_type": "markdown",
      "metadata": {
        "id": "paTq4TAu6Lcg"
      },
      "source": [
        "### Tujuan dan Langkah-Langkah Pengerjaan Projek <a id='goals_and_step'></a>"
      ]
    },
    {
      "cell_type": "markdown",
      "metadata": {
        "id": "4WSslrkO6Lcg"
      },
      "source": [
        "**Tujuan dari proyek ini adalah membuat model untuk merekomendasikan paket kepada konsumen Megaline**\n",
        "\n",
        "**Langkah yang akan saya lakukan**\n",
        "1. Mempelajari data pada tabel\n",
        "2. Memisahkan data sumber menjadi training set, validation set, dan test set.\n",
        "3. Memeriksa kualitas model yang berbeda dengan mengubah hyperparameter-nya.\n",
        "4. Memeriksa kualitas model dengan menggunakan test set.\n",
        "5. Melakukan sanity check terhadap model."
      ]
    },
    {
      "cell_type": "markdown",
      "metadata": {
        "id": "If1vfAhf6Lch"
      },
      "source": [
        "## Pra Pemrosesan Data <a id='data_preprocessing'></a>"
      ]
    },
    {
      "cell_type": "code",
      "execution_count": null,
      "metadata": {
        "id": "3pLWafkh6Lch"
      },
      "outputs": [],
      "source": [
        "# Muat semua library\n",
        "import pandas as pd\n",
        "import matplotlib.pyplot as plt\n",
        "import seaborn as sns\n",
        "from scipy import stats as st \n",
        "import numpy as np\n",
        "from sklearn.ensemble import RandomForestRegressor\n",
        "from sklearn.ensemble import RandomForestClassifier\n",
        "from sklearn.model_selection import train_test_split\n",
        "from sklearn.metrics import mean_squared_error\n",
        "from sklearn.model_selection import GridSearchCV"
      ]
    },
    {
      "cell_type": "markdown",
      "metadata": {
        "id": "fSqw20Zf6Lci"
      },
      "source": [
        "### Memuat Data <a id='load_data'></a>"
      ]
    },
    {
      "cell_type": "code",
      "execution_count": null,
      "metadata": {
        "id": "RYtvrc946Lci"
      },
      "outputs": [],
      "source": [
        "# Muat file data menjadi DataFrame\n",
        "df = pd.read_csv('/datasets/users_behavior.csv')"
      ]
    },
    {
      "cell_type": "markdown",
      "metadata": {
        "id": "gwMbrH7k6Lci"
      },
      "source": [
        "### Eksplorasi Data Awal <a id='initial_data_exploration'></a>"
      ]
    },
    {
      "cell_type": "code",
      "execution_count": null,
      "metadata": {
        "id": "tSMB0_v56Lcj",
        "outputId": "552cf6a2-259a-47cd-ce23-c792587ffe3b"
      },
      "outputs": [
        {
          "data": {
            "text/html": [
              "<div>\n",
              "<style scoped>\n",
              "    .dataframe tbody tr th:only-of-type {\n",
              "        vertical-align: middle;\n",
              "    }\n",
              "\n",
              "    .dataframe tbody tr th {\n",
              "        vertical-align: top;\n",
              "    }\n",
              "\n",
              "    .dataframe thead th {\n",
              "        text-align: right;\n",
              "    }\n",
              "</style>\n",
              "<table border=\"1\" class=\"dataframe\">\n",
              "  <thead>\n",
              "    <tr style=\"text-align: right;\">\n",
              "      <th></th>\n",
              "      <th>calls</th>\n",
              "      <th>minutes</th>\n",
              "      <th>messages</th>\n",
              "      <th>mb_used</th>\n",
              "      <th>is_ultra</th>\n",
              "    </tr>\n",
              "  </thead>\n",
              "  <tbody>\n",
              "    <tr>\n",
              "      <th>2298</th>\n",
              "      <td>64.0</td>\n",
              "      <td>475.68</td>\n",
              "      <td>20.0</td>\n",
              "      <td>8540.27</td>\n",
              "      <td>0</td>\n",
              "    </tr>\n",
              "    <tr>\n",
              "      <th>1966</th>\n",
              "      <td>58.0</td>\n",
              "      <td>428.86</td>\n",
              "      <td>47.0</td>\n",
              "      <td>24815.00</td>\n",
              "      <td>0</td>\n",
              "    </tr>\n",
              "    <tr>\n",
              "      <th>635</th>\n",
              "      <td>69.0</td>\n",
              "      <td>524.58</td>\n",
              "      <td>79.0</td>\n",
              "      <td>20765.07</td>\n",
              "      <td>0</td>\n",
              "    </tr>\n",
              "    <tr>\n",
              "      <th>3176</th>\n",
              "      <td>58.0</td>\n",
              "      <td>401.49</td>\n",
              "      <td>71.0</td>\n",
              "      <td>28074.34</td>\n",
              "      <td>1</td>\n",
              "    </tr>\n",
              "    <tr>\n",
              "      <th>1206</th>\n",
              "      <td>28.0</td>\n",
              "      <td>204.69</td>\n",
              "      <td>15.0</td>\n",
              "      <td>20081.81</td>\n",
              "      <td>0</td>\n",
              "    </tr>\n",
              "    <tr>\n",
              "      <th>722</th>\n",
              "      <td>114.0</td>\n",
              "      <td>887.08</td>\n",
              "      <td>112.0</td>\n",
              "      <td>22415.92</td>\n",
              "      <td>1</td>\n",
              "    </tr>\n",
              "    <tr>\n",
              "      <th>2733</th>\n",
              "      <td>94.0</td>\n",
              "      <td>596.13</td>\n",
              "      <td>63.0</td>\n",
              "      <td>20943.57</td>\n",
              "      <td>0</td>\n",
              "    </tr>\n",
              "    <tr>\n",
              "      <th>2174</th>\n",
              "      <td>92.0</td>\n",
              "      <td>603.40</td>\n",
              "      <td>40.0</td>\n",
              "      <td>7818.69</td>\n",
              "      <td>0</td>\n",
              "    </tr>\n",
              "    <tr>\n",
              "      <th>873</th>\n",
              "      <td>71.0</td>\n",
              "      <td>556.84</td>\n",
              "      <td>71.0</td>\n",
              "      <td>19869.21</td>\n",
              "      <td>0</td>\n",
              "    </tr>\n",
              "    <tr>\n",
              "      <th>3043</th>\n",
              "      <td>78.0</td>\n",
              "      <td>530.57</td>\n",
              "      <td>98.0</td>\n",
              "      <td>13666.81</td>\n",
              "      <td>0</td>\n",
              "    </tr>\n",
              "  </tbody>\n",
              "</table>\n",
              "</div>"
            ],
            "text/plain": [
              "      calls  minutes  messages   mb_used  is_ultra\n",
              "2298   64.0   475.68      20.0   8540.27         0\n",
              "1966   58.0   428.86      47.0  24815.00         0\n",
              "635    69.0   524.58      79.0  20765.07         0\n",
              "3176   58.0   401.49      71.0  28074.34         1\n",
              "1206   28.0   204.69      15.0  20081.81         0\n",
              "722   114.0   887.08     112.0  22415.92         1\n",
              "2733   94.0   596.13      63.0  20943.57         0\n",
              "2174   92.0   603.40      40.0   7818.69         0\n",
              "873    71.0   556.84      71.0  19869.21         0\n",
              "3043   78.0   530.57      98.0  13666.81         0"
            ]
          },
          "execution_count": 37,
          "metadata": {},
          "output_type": "execute_result"
        }
      ],
      "source": [
        "# Menampilkan sample data untuk melihat data secara sekilas\n",
        "df.sample(10)"
      ]
    },
    {
      "cell_type": "code",
      "execution_count": null,
      "metadata": {
        "id": "YvA9RF9r6Lcj",
        "outputId": "e8780595-1513-428c-d0a1-7220ec7e1637"
      },
      "outputs": [
        {
          "name": "stdout",
          "output_type": "stream",
          "text": [
            "<class 'pandas.core.frame.DataFrame'>\n",
            "RangeIndex: 3214 entries, 0 to 3213\n",
            "Data columns (total 5 columns):\n",
            " #   Column    Non-Null Count  Dtype  \n",
            "---  ------    --------------  -----  \n",
            " 0   calls     3214 non-null   float64\n",
            " 1   minutes   3214 non-null   float64\n",
            " 2   messages  3214 non-null   float64\n",
            " 3   mb_used   3214 non-null   float64\n",
            " 4   is_ultra  3214 non-null   int64  \n",
            "dtypes: float64(4), int64(1)\n",
            "memory usage: 125.7 KB\n"
          ]
        }
      ],
      "source": [
        "# Menampilkan informasi/rangkuman umum tentang DataFrame\n",
        "df.info()"
      ]
    },
    {
      "cell_type": "code",
      "execution_count": null,
      "metadata": {
        "id": "YjNR-O0U6Lck",
        "outputId": "d7f3bf3e-a102-4d5d-e87d-681f42669a4a"
      },
      "outputs": [
        {
          "data": {
            "text/html": [
              "<div>\n",
              "<style scoped>\n",
              "    .dataframe tbody tr th:only-of-type {\n",
              "        vertical-align: middle;\n",
              "    }\n",
              "\n",
              "    .dataframe tbody tr th {\n",
              "        vertical-align: top;\n",
              "    }\n",
              "\n",
              "    .dataframe thead th {\n",
              "        text-align: right;\n",
              "    }\n",
              "</style>\n",
              "<table border=\"1\" class=\"dataframe\">\n",
              "  <thead>\n",
              "    <tr style=\"text-align: right;\">\n",
              "      <th></th>\n",
              "      <th>calls</th>\n",
              "      <th>minutes</th>\n",
              "      <th>messages</th>\n",
              "      <th>mb_used</th>\n",
              "      <th>is_ultra</th>\n",
              "    </tr>\n",
              "  </thead>\n",
              "  <tbody>\n",
              "    <tr>\n",
              "      <th>count</th>\n",
              "      <td>3214.000000</td>\n",
              "      <td>3214.000000</td>\n",
              "      <td>3214.000000</td>\n",
              "      <td>3214.000000</td>\n",
              "      <td>3214.000000</td>\n",
              "    </tr>\n",
              "    <tr>\n",
              "      <th>mean</th>\n",
              "      <td>63.038892</td>\n",
              "      <td>438.208787</td>\n",
              "      <td>38.281269</td>\n",
              "      <td>17207.673836</td>\n",
              "      <td>0.306472</td>\n",
              "    </tr>\n",
              "    <tr>\n",
              "      <th>std</th>\n",
              "      <td>33.236368</td>\n",
              "      <td>234.569872</td>\n",
              "      <td>36.148326</td>\n",
              "      <td>7570.968246</td>\n",
              "      <td>0.461100</td>\n",
              "    </tr>\n",
              "    <tr>\n",
              "      <th>min</th>\n",
              "      <td>0.000000</td>\n",
              "      <td>0.000000</td>\n",
              "      <td>0.000000</td>\n",
              "      <td>0.000000</td>\n",
              "      <td>0.000000</td>\n",
              "    </tr>\n",
              "    <tr>\n",
              "      <th>25%</th>\n",
              "      <td>40.000000</td>\n",
              "      <td>274.575000</td>\n",
              "      <td>9.000000</td>\n",
              "      <td>12491.902500</td>\n",
              "      <td>0.000000</td>\n",
              "    </tr>\n",
              "    <tr>\n",
              "      <th>50%</th>\n",
              "      <td>62.000000</td>\n",
              "      <td>430.600000</td>\n",
              "      <td>30.000000</td>\n",
              "      <td>16943.235000</td>\n",
              "      <td>0.000000</td>\n",
              "    </tr>\n",
              "    <tr>\n",
              "      <th>75%</th>\n",
              "      <td>82.000000</td>\n",
              "      <td>571.927500</td>\n",
              "      <td>57.000000</td>\n",
              "      <td>21424.700000</td>\n",
              "      <td>1.000000</td>\n",
              "    </tr>\n",
              "    <tr>\n",
              "      <th>max</th>\n",
              "      <td>244.000000</td>\n",
              "      <td>1632.060000</td>\n",
              "      <td>224.000000</td>\n",
              "      <td>49745.730000</td>\n",
              "      <td>1.000000</td>\n",
              "    </tr>\n",
              "  </tbody>\n",
              "</table>\n",
              "</div>"
            ],
            "text/plain": [
              "             calls      minutes     messages       mb_used     is_ultra\n",
              "count  3214.000000  3214.000000  3214.000000   3214.000000  3214.000000\n",
              "mean     63.038892   438.208787    38.281269  17207.673836     0.306472\n",
              "std      33.236368   234.569872    36.148326   7570.968246     0.461100\n",
              "min       0.000000     0.000000     0.000000      0.000000     0.000000\n",
              "25%      40.000000   274.575000     9.000000  12491.902500     0.000000\n",
              "50%      62.000000   430.600000    30.000000  16943.235000     0.000000\n",
              "75%      82.000000   571.927500    57.000000  21424.700000     1.000000\n",
              "max     244.000000  1632.060000   224.000000  49745.730000     1.000000"
            ]
          },
          "execution_count": 39,
          "metadata": {},
          "output_type": "execute_result"
        }
      ],
      "source": [
        "# Memampilkan nilai statistik dari kolom numerik\n",
        "df.describe()"
      ]
    },
    {
      "cell_type": "code",
      "execution_count": null,
      "metadata": {
        "id": "rpRyt66F6Lck",
        "outputId": "7ae21581-e058-4818-88f8-d15a16effcf7"
      },
      "outputs": [
        {
          "data": {
            "text/plain": [
              "0    0.693528\n",
              "1    0.306472\n",
              "Name: is_ultra, dtype: float64"
            ]
          },
          "execution_count": 40,
          "metadata": {},
          "output_type": "execute_result"
        }
      ],
      "source": [
        "# Melihat distribusi perilaku konsumen\n",
        "df['is_ultra'].value_counts()/ len(df)"
      ]
    },
    {
      "cell_type": "markdown",
      "metadata": {
        "id": "ovSRNXdQ6Lck"
      },
      "source": [
        "### Kesimpulan Awal <a id='initial_summary'></a>"
      ]
    },
    {
      "cell_type": "markdown",
      "metadata": {
        "id": "QoCz5Bt66Lck"
      },
      "source": [
        "**Insights:**\n",
        "1. Data yang digunakan merupakan data bersih yang tidak menggandung data null dan kesalahan tipe data, sehingga tidak perlu dilakukan proses penanggulangan data\n",
        "2. Distribusi perilaku konsumen untuk durasi panggilan, sms, dan penggunaan data merupakan distribusi miring kanan\n",
        "3. 69% konsumen Megaline menggunakan paket Smart dan hanya sekitar 31% yang menggunakan paket Ultra"
      ]
    },
    {
      "cell_type": "markdown",
      "metadata": {
        "id": "gcYXsOFL6Lcl"
      },
      "source": [
        "## Memisahkan Data menjadi 3 set <a id='split_data'></a>"
      ]
    },
    {
      "cell_type": "code",
      "execution_count": null,
      "metadata": {
        "id": "mmfdaSlU6Lcl"
      },
      "outputs": [],
      "source": [
        "# Mendefininikan data features dan data target\n",
        "features = df.drop(['is_ultra'], axis=1)\n",
        "target = df['is_ultra']"
      ]
    },
    {
      "cell_type": "code",
      "execution_count": null,
      "metadata": {
        "id": "47I8wRz66Lcl"
      },
      "outputs": [],
      "source": [
        "# Membagi dataframe menjadi 3 set\n",
        "features_train, features_check, target_train, target_check = train_test_split(\n",
        "    features, target, test_size = 0.4, random_state = 12345)\n",
        "\n",
        "features_valid, features_test, target_valid, target_test = train_test_split(\n",
        "    features_check, target_check, test_size = 0.5, random_state = 12345)"
      ]
    },
    {
      "cell_type": "code",
      "execution_count": null,
      "metadata": {
        "id": "BVfQpbs56Lcl",
        "outputId": "dcee9a77-a4d7-4cba-81ed-a976c0b65cb0"
      },
      "outputs": [
        {
          "name": "stdout",
          "output_type": "stream",
          "text": [
            "(1928, 4)\n",
            "(643, 4)\n",
            "(643, 4)\n",
            "(1928,)\n",
            "(643,)\n",
            "(643,)\n"
          ]
        }
      ],
      "source": [
        "print(features_train.shape)\n",
        "print(features_valid.shape)\n",
        "print(features_test.shape)\n",
        "print(target_train.shape)\n",
        "print(target_valid.shape)\n",
        "print(target_test.shape)"
      ]
    },
    {
      "cell_type": "markdown",
      "metadata": {
        "id": "flXmMerF6Lcl"
      },
      "source": [
        "## Melatih Model <a id='model_train'></a>"
      ]
    },
    {
      "cell_type": "markdown",
      "metadata": {
        "id": "_QZ3DG4x6Lcm"
      },
      "source": [
        "Dari ketiga jenis model yang dipelajari pada sprint ini (Decision Tree, Random Forest, dan Logistics Regresion) didapatkan bahwa **Random Forest** memiliki tingkat akurasi yang tinggi, sehingga pada projek kali ini saya akan menggunakan model Random Forest."
      ]
    },
    {
      "cell_type": "code",
      "execution_count": null,
      "metadata": {
        "id": "iWr4a7yX6Lcm"
      },
      "outputs": [],
      "source": [
        "# Membuat model\n",
        "model = RandomForestClassifier(random_state=54321, n_estimators=5)"
      ]
    },
    {
      "cell_type": "code",
      "execution_count": null,
      "metadata": {
        "id": "jqe6qqRO6Lcm",
        "outputId": "02d9eeb5-21a0-4da3-e869-b47d335bf3b8"
      },
      "outputs": [
        {
          "data": {
            "text/plain": [
              "RandomForestClassifier(n_estimators=5, random_state=54321)"
            ]
          },
          "execution_count": 45,
          "metadata": {},
          "output_type": "execute_result"
        }
      ],
      "source": [
        "# Melatih model\n",
        "model.fit(features_train, target_train)"
      ]
    },
    {
      "cell_type": "code",
      "execution_count": null,
      "metadata": {
        "id": "ssfdf4K86Lcm",
        "outputId": "328330ed-2924-4b4a-fb97-6b0e3700f1f6"
      },
      "outputs": [
        {
          "data": {
            "text/plain": [
              "0.744945567651633"
            ]
          },
          "execution_count": 46,
          "metadata": {},
          "output_type": "execute_result"
        }
      ],
      "source": [
        "# Melihat akurasi model\n",
        "model.score(features_valid, target_valid)"
      ]
    },
    {
      "cell_type": "markdown",
      "metadata": {
        "id": "oqaL-JBN6Lcm"
      },
      "source": [
        "Berdasarkan hasil dapat dilihat bahwa tingkat akurasinya masih berada dibawah dari ketentuan projek, yaitu 0.74. Sehingga saya akan mencoba melakukan Tuning Hyperparameter untuk meningkatkan akurasinya."
      ]
    },
    {
      "cell_type": "code",
      "execution_count": null,
      "metadata": {
        "id": "idXc0UQE6Lcm",
        "outputId": "6a5f335e-7e4e-41ae-c507-169e6f103f74"
      },
      "outputs": [
        {
          "name": "stdout",
          "output_type": "stream",
          "text": [
            "Accuracy model terbaik pada validation set (n_estimators = 10): 0.7791601866251944\n"
          ]
        }
      ],
      "source": [
        "# Tuning Hyperparameter\n",
        "best_score = 0\n",
        "best_est = 0\n",
        "\n",
        "for est in range(1, 11):\n",
        "    model = RandomForestClassifier(random_state=54321, n_estimators=est)\n",
        "    model.fit(features_train, target_train)\n",
        "    score = model.score(features_valid, target_valid)\n",
        "    if score > best_score:\n",
        "        best_score = score\n",
        "        best_est = est\n",
        "\n",
        "print(\"Accuracy model terbaik pada validation set (n_estimators = {}): {}\".format(best_est, best_score))"
      ]
    },
    {
      "cell_type": "markdown",
      "metadata": {
        "id": "vm0-jeSS6Lcn"
      },
      "source": [
        "Berdasarkan hasil dapat dilihat bahwa tingkat akurasinya sudah diatas dari ketentuan projek, yaitu 0.77. Akan tetapi saya akan mencoba untuk melakukan tuning hyperparameter menggunakan cara lain untuk melihat apakah nilai akurasinya dapat ditingkatkan"
      ]
    },
    {
      "cell_type": "code",
      "execution_count": null,
      "metadata": {
        "id": "ITS59gkj6Lcn"
      },
      "outputs": [],
      "source": [
        "# tuning hyper parameter menggunakan GridSearchCV\n",
        "n_estimators_range = np.arange(1,100,1)\n",
        "param_grid = dict(n_estimators = n_estimators_range)\n",
        "\n",
        "model = RandomForestClassifier(random_state=54321)\n",
        "\n",
        "grid = GridSearchCV(estimator = model, \n",
        "                    param_grid = param_grid, \n",
        "                    cv = 5)"
      ]
    },
    {
      "cell_type": "code",
      "execution_count": null,
      "metadata": {
        "id": "rZ1zn5a06Lcn",
        "outputId": "16ff4759-021b-4943-d409-6c6dccdfaacb"
      },
      "outputs": [
        {
          "data": {
            "text/plain": [
              "GridSearchCV(cv=5, estimator=RandomForestClassifier(random_state=54321),\n",
              "             param_grid={'n_estimators': array([ 1,  2,  3,  4,  5,  6,  7,  8,  9, 10, 11, 12, 13, 14, 15, 16, 17,\n",
              "       18, 19, 20, 21, 22, 23, 24, 25, 26, 27, 28, 29, 30, 31, 32, 33, 34,\n",
              "       35, 36, 37, 38, 39, 40, 41, 42, 43, 44, 45, 46, 47, 48, 49, 50, 51,\n",
              "       52, 53, 54, 55, 56, 57, 58, 59, 60, 61, 62, 63, 64, 65, 66, 67, 68,\n",
              "       69, 70, 71, 72, 73, 74, 75, 76, 77, 78, 79, 80, 81, 82, 83, 84, 85,\n",
              "       86, 87, 88, 89, 90, 91, 92, 93, 94, 95, 96, 97, 98, 99])})"
            ]
          },
          "execution_count": 84,
          "metadata": {},
          "output_type": "execute_result"
        }
      ],
      "source": [
        "# Membuat model menggunakan metode GridSearchCV\n",
        "grid.fit(features_train, target_train)"
      ]
    },
    {
      "cell_type": "code",
      "execution_count": null,
      "metadata": {
        "id": "hW5KaFja6Lcn",
        "outputId": "4f300311-2982-485a-a9b4-b6cccf70c39c"
      },
      "outputs": [
        {
          "name": "stdout",
          "output_type": "stream",
          "text": [
            "The best parameteres are {'n_estimators': 88} with a score of 0.81\n"
          ]
        }
      ],
      "source": [
        "# Menentukan nilai hyperparameter terbaik\n",
        "print('The best parameteres are %s with a score of %0.2f' \n",
        "      % (grid.best_params_, grid.best_score_))"
      ]
    },
    {
      "cell_type": "markdown",
      "metadata": {
        "id": "ull4AtZq6Lcn"
      },
      "source": [
        "Berdasarkan hasil dapat dilihat bahwa tingkat akurasinya memang meningkat dari 0.77 menjadi 0.81, tetapi didapatkan bahwa proses prediksinya memakan waktu yang lebih lama hanya untuk menaikan tingkat akurasinya sebesar 0.04"
      ]
    },
    {
      "cell_type": "markdown",
      "metadata": {
        "id": "yIJh28HB6Lco"
      },
      "source": [
        "## Memeriksa Kualitas Data Set <a id='check_model_accuracy'></a>"
      ]
    },
    {
      "cell_type": "code",
      "execution_count": null,
      "metadata": {
        "id": "M0yTHszl6Lco",
        "outputId": "30cb61e6-2b24-478d-8197-acf7d0fe3cbe"
      },
      "outputs": [
        {
          "data": {
            "text/plain": [
              "0.7931570762052877"
            ]
          },
          "execution_count": 86,
          "metadata": {},
          "output_type": "execute_result"
        }
      ],
      "source": [
        "# Membuat model dengan n_estimators = 88\n",
        "model = RandomForestClassifier(random_state=54321, n_estimators=88)\n",
        "model.fit(features_train, target_train)\n",
        "score = model.score(features_valid, target_valid)\n",
        "score"
      ]
    },
    {
      "cell_type": "code",
      "execution_count": null,
      "metadata": {
        "id": "U83ChVwY6Lco",
        "outputId": "97b24e9c-6136-4aa7-b201-5f6358b3b7b8"
      },
      "outputs": [
        {
          "data": {
            "text/plain": [
              "0.7869362363919129"
            ]
          },
          "execution_count": 87,
          "metadata": {},
          "output_type": "execute_result"
        }
      ],
      "source": [
        "# Melakukan pengecekan akurasi dengan n_estimators = 88\n",
        "test_score = model.score(features_test, target_test)\n",
        "test_score"
      ]
    },
    {
      "cell_type": "code",
      "execution_count": null,
      "metadata": {
        "id": "IWYgoM7C6Lco",
        "outputId": "5d8d221b-adc4-4e4b-d6af-a87d0f89c1e3"
      },
      "outputs": [
        {
          "data": {
            "text/plain": [
              "0.7791601866251944"
            ]
          },
          "execution_count": 78,
          "metadata": {},
          "output_type": "execute_result"
        }
      ],
      "source": [
        "# Membuat model dengan n_estimators = 10\n",
        "model = RandomForestClassifier(random_state=54321, n_estimators=10)\n",
        "model.fit(features_train, target_train)\n",
        "score = model.score(features_valid, target_valid)\n",
        "score"
      ]
    },
    {
      "cell_type": "code",
      "execution_count": null,
      "metadata": {
        "id": "fikBrMgE6Lco",
        "outputId": "bbd43355-3527-4ddc-8b0f-a82adf952d3c"
      },
      "outputs": [
        {
          "data": {
            "text/plain": [
              "0.7822706065318819"
            ]
          },
          "execution_count": 79,
          "metadata": {},
          "output_type": "execute_result"
        }
      ],
      "source": [
        "# Melakukan pengecekan akurasi dengan n_estimators = 10\n",
        "test_score = model.score(features_test, target_test)\n",
        "test_score"
      ]
    },
    {
      "cell_type": "markdown",
      "metadata": {
        "id": "cfb6bgzT6Lco"
      },
      "source": [
        "Berdasarkan data ini dapat dilihat bahwa sepertinya pengujian menggunakan model dengan n = 88 mengalami overfitting, sehingga saya akan menggunakan model dengan n = 10"
      ]
    },
    {
      "cell_type": "markdown",
      "metadata": {
        "id": "YpALrFka6Lcp"
      },
      "source": [
        "## Sanity Check <a id='sanity_check'></a>"
      ]
    },
    {
      "cell_type": "code",
      "execution_count": null,
      "metadata": {
        "id": "PG_0YzqO6Lcp",
        "outputId": "f3860e63-7c2b-486f-eb31-96ed4f56fbbc"
      },
      "outputs": [
        {
          "data": {
            "text/html": [
              "<div>\n",
              "<style scoped>\n",
              "    .dataframe tbody tr th:only-of-type {\n",
              "        vertical-align: middle;\n",
              "    }\n",
              "\n",
              "    .dataframe tbody tr th {\n",
              "        vertical-align: top;\n",
              "    }\n",
              "\n",
              "    .dataframe thead th {\n",
              "        text-align: right;\n",
              "    }\n",
              "</style>\n",
              "<table border=\"1\" class=\"dataframe\">\n",
              "  <thead>\n",
              "    <tr style=\"text-align: right;\">\n",
              "      <th></th>\n",
              "      <th>calls</th>\n",
              "      <th>minutes</th>\n",
              "      <th>messages</th>\n",
              "      <th>mb_used</th>\n",
              "      <th>is_ultra</th>\n",
              "    </tr>\n",
              "  </thead>\n",
              "  <tbody>\n",
              "    <tr>\n",
              "      <th>3</th>\n",
              "      <td>106.0</td>\n",
              "      <td>745.53</td>\n",
              "      <td>81.0</td>\n",
              "      <td>8437.39</td>\n",
              "      <td>1</td>\n",
              "    </tr>\n",
              "    <tr>\n",
              "      <th>6</th>\n",
              "      <td>57.0</td>\n",
              "      <td>431.64</td>\n",
              "      <td>20.0</td>\n",
              "      <td>3738.90</td>\n",
              "      <td>1</td>\n",
              "    </tr>\n",
              "    <tr>\n",
              "      <th>8</th>\n",
              "      <td>7.0</td>\n",
              "      <td>43.39</td>\n",
              "      <td>3.0</td>\n",
              "      <td>2538.67</td>\n",
              "      <td>1</td>\n",
              "    </tr>\n",
              "  </tbody>\n",
              "</table>\n",
              "</div>"
            ],
            "text/plain": [
              "   calls  minutes  messages  mb_used  is_ultra\n",
              "3  106.0   745.53      81.0  8437.39         1\n",
              "6   57.0   431.64      20.0  3738.90         1\n",
              "8    7.0    43.39       3.0  2538.67         1"
            ]
          },
          "execution_count": 114,
          "metadata": {},
          "output_type": "execute_result"
        }
      ],
      "source": [
        "df[df['is_ultra'] == 1].head(3)"
      ]
    },
    {
      "cell_type": "code",
      "execution_count": null,
      "metadata": {
        "id": "XL80rE3n6Lcp",
        "outputId": "2a1dcf4d-328d-475a-f2a0-19cf09c82e90"
      },
      "outputs": [
        {
          "data": {
            "text/html": [
              "<div>\n",
              "<style scoped>\n",
              "    .dataframe tbody tr th:only-of-type {\n",
              "        vertical-align: middle;\n",
              "    }\n",
              "\n",
              "    .dataframe tbody tr th {\n",
              "        vertical-align: top;\n",
              "    }\n",
              "\n",
              "    .dataframe thead th {\n",
              "        text-align: right;\n",
              "    }\n",
              "</style>\n",
              "<table border=\"1\" class=\"dataframe\">\n",
              "  <thead>\n",
              "    <tr style=\"text-align: right;\">\n",
              "      <th></th>\n",
              "      <th>calls</th>\n",
              "      <th>minutes</th>\n",
              "      <th>messages</th>\n",
              "      <th>mb_used</th>\n",
              "      <th>is_ultra</th>\n",
              "    </tr>\n",
              "  </thead>\n",
              "  <tbody>\n",
              "    <tr>\n",
              "      <th>0</th>\n",
              "      <td>40.0</td>\n",
              "      <td>311.90</td>\n",
              "      <td>83.0</td>\n",
              "      <td>19915.42</td>\n",
              "      <td>0</td>\n",
              "    </tr>\n",
              "    <tr>\n",
              "      <th>1</th>\n",
              "      <td>85.0</td>\n",
              "      <td>516.75</td>\n",
              "      <td>56.0</td>\n",
              "      <td>22696.96</td>\n",
              "      <td>0</td>\n",
              "    </tr>\n",
              "    <tr>\n",
              "      <th>2</th>\n",
              "      <td>77.0</td>\n",
              "      <td>467.66</td>\n",
              "      <td>86.0</td>\n",
              "      <td>21060.45</td>\n",
              "      <td>0</td>\n",
              "    </tr>\n",
              "  </tbody>\n",
              "</table>\n",
              "</div>"
            ],
            "text/plain": [
              "   calls  minutes  messages   mb_used  is_ultra\n",
              "0   40.0   311.90      83.0  19915.42         0\n",
              "1   85.0   516.75      56.0  22696.96         0\n",
              "2   77.0   467.66      86.0  21060.45         0"
            ]
          },
          "execution_count": 115,
          "metadata": {},
          "output_type": "execute_result"
        }
      ],
      "source": [
        "df[df['is_ultra'] != 1].head(3)"
      ]
    },
    {
      "cell_type": "code",
      "execution_count": null,
      "metadata": {
        "id": "MChA3Iba6Lcp",
        "outputId": "180c1c35-cb72-4da1-afc1-9b1ff1977f5f"
      },
      "outputs": [
        {
          "data": {
            "text/plain": [
              "array([1, 0, 0, 0, 0, 0])"
            ]
          },
          "execution_count": 120,
          "metadata": {},
          "output_type": "execute_result"
        }
      ],
      "source": [
        "new_features = pd.DataFrame(\n",
        "    [\n",
        "        [106.0, 745.53, 81.0, 8437.39],\n",
        "        [57.0, 431.64, 20.0, 3738.90],\n",
        "        [7.0, 43.39, 3.0, 2538.67],\n",
        "        [40.0, 311.90, 83.0, 19915.42],\n",
        "        [85.0, 516.75, 56.0, 22696.96],\n",
        "        [77.0, 467.66, 86.0, 21060.45]\n",
        "    ],\n",
        "    columns=features_train.columns,\n",
        ")\n",
        "\n",
        "model = RandomForestClassifier(random_state=54321, n_estimators=10)\n",
        "model.fit(features_train, target_train)\n",
        "answers = model.predict(new_features)\n",
        "answers"
      ]
    },
    {
      "cell_type": "code",
      "execution_count": null,
      "metadata": {
        "id": "kIcyZthw6Lcp",
        "outputId": "ea0d8c2b-48ef-4e95-be41-bcbaa26a91bd"
      },
      "outputs": [
        {
          "data": {
            "text/plain": [
              "array([1, 1, 0, 0, 0, 0])"
            ]
          },
          "execution_count": 121,
          "metadata": {},
          "output_type": "execute_result"
        }
      ],
      "source": [
        "new_features = pd.DataFrame(\n",
        "    [\n",
        "        [106.0, 745.53, 81.0, 8437.39],\n",
        "        [57.0, 431.64, 20.0, 3738.90],\n",
        "        [7.0, 43.39, 3.0, 2538.67],\n",
        "        [40.0, 311.90, 83.0, 19915.42],\n",
        "        [85.0, 516.75, 56.0, 22696.96],\n",
        "        [77.0, 467.66, 86.0, 21060.45]\n",
        "    ],\n",
        "    columns=features_train.columns,\n",
        ")\n",
        "\n",
        "model = RandomForestClassifier(random_state=54321, n_estimators=88)\n",
        "model.fit(features_train, target_train)\n",
        "answers = model.predict(new_features)\n",
        "answers"
      ]
    },
    {
      "cell_type": "markdown",
      "metadata": {
        "id": "QpI-IzP96Lcq"
      },
      "source": [
        "Berdasarkan hasil dari Sanity Check dapat dilihat bahwa meskipun n=88 mengalami overfitting akurasi yang dimiliki oleh n-estimator tetap lebih tinggi."
      ]
    },
    {
      "cell_type": "markdown",
      "metadata": {
        "id": "twqR_phb6Lcq"
      },
      "source": [
        "## Kesimpulan <a id='summary'></a>"
      ]
    },
    {
      "cell_type": "markdown",
      "metadata": {
        "id": "-aXYfsTu6Lcq"
      },
      "source": [
        "Pada projek ini saya membuat sebuah Machine Learning sederhana menggunakan model Random Forest karena dinilai memiliki tingkat akurasi paling tinggi jika dibandingkan dengan model Decision Tree dan Logistic Regresion. \n",
        "\n",
        "Awalnya model yang saya buat hanya memiliki akurasi sebesar 0.74, setelah melakukan hyperparameter tunning dengan menggunakan metode GridSearchCv didapatkan peningkatan akurasi hingga 0.81 dengan nilai n_estimators sebesar 88. Dengan n=88 didapatkan penurunan tingkat akurasi pada dataset test, tetapi pada hasil sanity check didapatkan bahwa nilai akurasi n=88 lebih baik dari pada n=10."
      ]
    },
    {
      "cell_type": "code",
      "execution_count": null,
      "metadata": {
        "id": "e5aPyGu36Lcq"
      },
      "outputs": [],
      "source": []
    }
  ],
  "metadata": {
    "kernelspec": {
      "display_name": "Python 3 (ipykernel)",
      "language": "python",
      "name": "python3"
    },
    "language_info": {
      "codemirror_mode": {
        "name": "ipython",
        "version": 3
      },
      "file_extension": ".py",
      "mimetype": "text/x-python",
      "name": "python",
      "nbconvert_exporter": "python",
      "pygments_lexer": "ipython3",
      "version": "3.9.5"
    },
    "toc": {
      "base_numbering": 1,
      "nav_menu": {},
      "number_sections": true,
      "sideBar": true,
      "skip_h1_title": true,
      "title_cell": "Table of Contents",
      "title_sidebar": "Contents",
      "toc_cell": false,
      "toc_position": {
        "height": "calc(100% - 180px)",
        "left": "10px",
        "top": "150px",
        "width": "287.94px"
      },
      "toc_section_display": true,
      "toc_window_display": true
    },
    "colab": {
      "provenance": []
    }
  },
  "nbformat": 4,
  "nbformat_minor": 0
}